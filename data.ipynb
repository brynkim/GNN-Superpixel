{
 "cells": [
  {
   "cell_type": "markdown",
   "metadata": {},
   "source": [
    "ENVIRON"
   ]
  },
  {
   "cell_type": "code",
   "execution_count": 8,
   "metadata": {},
   "outputs": [],
   "source": [
    "import torchvision\n",
    "from torchvision import transforms as T\n",
    "from tqdm import tqdm\n",
    "import os\n",
    "import numpy as np\n",
    "import pandas as pd"
   ]
  },
  {
   "cell_type": "markdown",
   "metadata": {},
   "source": [
    "DATASET"
   ]
  },
  {
   "cell_type": "code",
   "execution_count": null,
   "metadata": {},
   "outputs": [],
   "source": [
    "# torchvision.datasets.ImageNet(root = './ImageNet/train', split = 'train')"
   ]
  },
  {
   "cell_type": "code",
   "execution_count": null,
   "metadata": {},
   "outputs": [],
   "source": [
    "# torchvision.datasets.ImageNet(root = './ImageNet/val', split = 'val')"
   ]
  },
  {
   "cell_type": "markdown",
   "metadata": {},
   "source": [
    "FILTERING"
   ]
  },
  {
   "cell_type": "code",
   "execution_count": 2,
   "metadata": {},
   "outputs": [],
   "source": [
    "filter_df = pd.read_csv('./select.csv')"
   ]
  },
  {
   "cell_type": "code",
   "execution_count": 3,
   "metadata": {},
   "outputs": [],
   "source": [
    "dfs = []"
   ]
  },
  {
   "cell_type": "code",
   "execution_count": 4,
   "metadata": {},
   "outputs": [
    {
     "name": "stderr",
     "output_type": "stream",
     "text": [
      "100%|██████████| 590/590 [1:27:53<00:00,  8.94s/it]  \n"
     ]
    }
   ],
   "source": [
    "for filename in tqdm(os.listdir('./converted/train/')):\n",
    "    df = pd.read_pickle(f'./converted/train/{filename}')\n",
    "    df = df[df['label'].isin(filter_df['directory'].values)]\n",
    "    if len(df) != 0:\n",
    "        df.to_pickle(f'./filtered/train/{filename}')"
   ]
  },
  {
   "cell_type": "code",
   "execution_count": 39,
   "metadata": {},
   "outputs": [
    {
     "name": "stderr",
     "output_type": "stream",
     "text": [
      "100%|██████████| 50/50 [07:43<00:00,  9.26s/it]\n"
     ]
    }
   ],
   "source": [
    "for filename in tqdm(os.listdir('./converted/val/')):\n",
    "    df = pd.read_pickle(f'./converted/val/{filename}')\n",
    "    df = df[df['label'].isin(features)]\n",
    "    if len(df) != 0:\n",
    "        df.to_pickle(f'./filtered/val/{filename}')"
   ]
  },
  {
   "cell_type": "code",
   "execution_count": 16,
   "metadata": {},
   "outputs": [],
   "source": [
    "features = np.array([], dtype = object)"
   ]
  },
  {
   "cell_type": "code",
   "execution_count": 22,
   "metadata": {},
   "outputs": [
    {
     "name": "stderr",
     "output_type": "stream",
     "text": [
      "100%|██████████| 100/100 [09:36<00:00,  5.77s/it]\n"
     ]
    }
   ],
   "source": [
    "for filename in tqdm(os.listdir('./filtered/train/')):\n",
    "    df = pd.read_pickle(f'./filtered/train/{filename}')\n",
    "    if len(df) != 0:\n",
    "        features = np.concatenate([features, df['label'].unique()])"
   ]
  },
  {
   "cell_type": "code",
   "execution_count": 27,
   "metadata": {},
   "outputs": [
    {
     "data": {
      "text/plain": [
       "(49,)"
      ]
     },
     "execution_count": 27,
     "metadata": {},
     "output_type": "execute_result"
    }
   ],
   "source": [
    "np.unique(features).shape"
   ]
  },
  {
   "cell_type": "code",
   "execution_count": 40,
   "metadata": {},
   "outputs": [
    {
     "name": "stderr",
     "output_type": "stream",
     "text": [
      "100%|██████████| 30/30 [00:21<00:00,  1.37it/s]\n"
     ]
    }
   ],
   "source": [
    "val_features = np.array([], dtype = object)\n",
    "for filename in tqdm(os.listdir('./filtered/val/')):\n",
    "    df = pd.read_pickle(f'./filtered/val/{filename}')\n",
    "    if len(df) != 0:\n",
    "        val_features = np.concatenate([val_features, df['label'].unique()])"
   ]
  },
  {
   "cell_type": "code",
   "execution_count": 41,
   "metadata": {},
   "outputs": [
    {
     "data": {
      "text/plain": [
       "(49,)"
      ]
     },
     "execution_count": 41,
     "metadata": {},
     "output_type": "execute_result"
    }
   ],
   "source": [
    "np.unique(val_features).shape"
   ]
  },
  {
   "cell_type": "code",
   "execution_count": 43,
   "metadata": {},
   "outputs": [],
   "source": [
    "features = np.unique(features)\n",
    "val_features = np.unique(val_features)"
   ]
  },
  {
   "cell_type": "code",
   "execution_count": 33,
   "metadata": {},
   "outputs": [
    {
     "data": {
      "text/plain": [
       "array(['n01443537', 'n01514668', 'n01532829', 'n01614925', 'n01631663',\n",
       "       'n01632777', 'n01644373', 'n01664065', 'n01697457', 'n01734418',\n",
       "       'n01770393', 'n01773157', 'n01855672', 'n01871265', 'n01877812',\n",
       "       'n01882714', 'n01944390', 'n01978455', 'n02002556', 'n02007558',\n",
       "       'n02056570', 'n02058221', 'n02071294', 'n02077923', 'n02112018',\n",
       "       'n02114367', 'n02120079', 'n02123597', 'n02129165', 'n02129604',\n",
       "       'n02132136', 'n02137549', 'n02206856', 'n02219486', 'n02226429',\n",
       "       'n02268443', 'n02317335', 'n02326432', 'n02342885', 'n02346627',\n",
       "       'n02356798', 'n02361337', 'n02364673', 'n02389026', 'n02395406',\n",
       "       'n02398521', 'n02403003', 'n02422699', 'n02442845'], dtype=object)"
      ]
     },
     "execution_count": 33,
     "metadata": {},
     "output_type": "execute_result"
    }
   ],
   "source": [
    "features"
   ]
  },
  {
   "cell_type": "code",
   "execution_count": 34,
   "metadata": {},
   "outputs": [
    {
     "data": {
      "text/plain": [
       "array(['n01443537', 'n01514668', 'n01532829', 'n01614925', 'n01631663',\n",
       "       'n01632777', 'n01644373', 'n01664065', 'n01697457', 'n01734418',\n",
       "       'n01770393', 'n01773157', 'n01855672', 'n01871265', 'n01877812',\n",
       "       'n01882714', 'n01910747', 'n01944390', 'n01978455', 'n02002556',\n",
       "       'n02007558', 'n02056570', 'n02058221', 'n02071294', 'n02077923',\n",
       "       'n02112018', 'n02114367', 'n02120079', 'n02123597', 'n02129165',\n",
       "       'n02129604', 'n02132136', 'n02137549', 'n02206856', 'n02219486',\n",
       "       'n02226429', 'n02268443', 'n02317335', 'n02326432', 'n02342885',\n",
       "       'n02346627', 'n02356798', 'n02361337', 'n02364673', 'n02389026',\n",
       "       'n02395406', 'n02398521', 'n02403003', 'n02422699', 'n02442845'],\n",
       "      dtype=object)"
      ]
     },
     "execution_count": 34,
     "metadata": {},
     "output_type": "execute_result"
    }
   ],
   "source": [
    "val_features"
   ]
  },
  {
   "cell_type": "code",
   "execution_count": 44,
   "metadata": {},
   "outputs": [
    {
     "name": "stdout",
     "output_type": "stream",
     "text": [
      "n01443537 n01443537 True\n",
      "n01514668 n01514668 True\n",
      "n01532829 n01532829 True\n",
      "n01614925 n01614925 True\n",
      "n01631663 n01631663 True\n",
      "n01632777 n01632777 True\n",
      "n01644373 n01644373 True\n",
      "n01664065 n01664065 True\n",
      "n01697457 n01697457 True\n",
      "n01734418 n01734418 True\n",
      "n01770393 n01770393 True\n",
      "n01773157 n01773157 True\n",
      "n01855672 n01855672 True\n",
      "n01871265 n01871265 True\n",
      "n01877812 n01877812 True\n",
      "n01882714 n01882714 True\n",
      "n01944390 n01944390 True\n",
      "n01978455 n01978455 True\n",
      "n02002556 n02002556 True\n",
      "n02007558 n02007558 True\n",
      "n02056570 n02056570 True\n",
      "n02058221 n02058221 True\n",
      "n02071294 n02071294 True\n",
      "n02077923 n02077923 True\n",
      "n02112018 n02112018 True\n",
      "n02114367 n02114367 True\n",
      "n02120079 n02120079 True\n",
      "n02123597 n02123597 True\n",
      "n02129165 n02129165 True\n",
      "n02129604 n02129604 True\n",
      "n02132136 n02132136 True\n",
      "n02137549 n02137549 True\n",
      "n02206856 n02206856 True\n",
      "n02219486 n02219486 True\n",
      "n02226429 n02226429 True\n",
      "n02268443 n02268443 True\n",
      "n02317335 n02317335 True\n",
      "n02326432 n02326432 True\n",
      "n02342885 n02342885 True\n",
      "n02346627 n02346627 True\n",
      "n02356798 n02356798 True\n",
      "n02361337 n02361337 True\n",
      "n02364673 n02364673 True\n",
      "n02389026 n02389026 True\n",
      "n02395406 n02395406 True\n",
      "n02398521 n02398521 True\n",
      "n02403003 n02403003 True\n",
      "n02422699 n02422699 True\n",
      "n02442845 n02442845 True\n"
     ]
    }
   ],
   "source": [
    "for t, v in zip(features, val_features):\n",
    "    print(t, v, t == v)"
   ]
  },
  {
   "cell_type": "code",
   "execution_count": 45,
   "metadata": {},
   "outputs": [
    {
     "data": {
      "text/plain": [
       "49"
      ]
     },
     "execution_count": 45,
     "metadata": {},
     "output_type": "execute_result"
    }
   ],
   "source": [
    "len(features)"
   ]
  },
  {
   "cell_type": "code",
   "execution_count": null,
   "metadata": {},
   "outputs": [],
   "source": []
  }
 ],
 "metadata": {
  "kernelspec": {
   "display_name": "dongjae_graph",
   "language": "python",
   "name": "python3"
  },
  "language_info": {
   "codemirror_mode": {
    "name": "ipython",
    "version": 3
   },
   "file_extension": ".py",
   "mimetype": "text/x-python",
   "name": "python",
   "nbconvert_exporter": "python",
   "pygments_lexer": "ipython3",
   "version": "3.8.18 (default, Sep 11 2023, 13:40:15) \n[GCC 11.2.0]"
  },
  "orig_nbformat": 4,
  "vscode": {
   "interpreter": {
    "hash": "c699c477c5c471d47a8de7a9cc4729800768f3401aa4bd1bfce7df4275c2064e"
   }
  }
 },
 "nbformat": 4,
 "nbformat_minor": 2
}
